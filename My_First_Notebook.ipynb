{
 "cells": [
  {
   "cell_type": "markdown",
   "id": "232327c1",
   "metadata": {},
   "source": [
    "# My first Mark Down cell in Jupyter. "
   ]
  },
  {
   "cell_type": "markdown",
   "id": "368fe778",
   "metadata": {},
   "source": [
    "### A cell is container for code or text to help orgainze work. "
   ]
  },
  {
   "cell_type": "markdown",
   "id": "39b32dc4",
   "metadata": {},
   "source": [
    "# There are two types of cells: code & markdown\n",
    "### Code Cells: Used for writing and running code. \n",
    "### Mark Down Cells: Used for adding text for adding explanations.  "
   ]
  },
  {
   "cell_type": "code",
   "execution_count": 3,
   "id": "5b45e148",
   "metadata": {},
   "outputs": [
    {
     "name": "stdout",
     "output_type": "stream",
     "text": [
      "Hello, World!\n"
     ]
    }
   ],
   "source": [
    "print(\"Hello, World!\")"
   ]
  },
  {
   "cell_type": "code",
   "execution_count": null,
   "id": "1f60027e",
   "metadata": {},
   "outputs": [],
   "source": []
  }
 ],
 "metadata": {
  "kernelspec": {
   "display_name": "Python 3 (ipykernel)",
   "language": "python",
   "name": "python3"
  },
  "language_info": {
   "codemirror_mode": {
    "name": "ipython",
    "version": 3
   },
   "file_extension": ".py",
   "mimetype": "text/x-python",
   "name": "python",
   "nbconvert_exporter": "python",
   "pygments_lexer": "ipython3",
   "version": "3.11.4"
  }
 },
 "nbformat": 4,
 "nbformat_minor": 5
}
